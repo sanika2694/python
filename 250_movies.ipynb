{
 "cells": [
  {
   "cell_type": "code",
   "execution_count": 21,
   "id": "57b8b901-d17c-403a-8e1d-ac1279ec26c9",
   "metadata": {},
   "outputs": [
    {
     "name": "stdout",
     "output_type": "stream",
     "text": [
      "✅ DataFrame saved as 'top250_movies.csv'\n"
     ]
    }
   ],
   "source": [
    "import requests\n",
    "import pandas as pd\n",
    "\n",
    "url = \"https://imdb236.p.rapidapi.com/api/imdb/top250-movies\"\n",
    "\n",
    "headers = {\n",
    "\t\"x-rapidapi-key\": \"013798f797mshb41d8bc7e4a5c7bp190565jsn2683a8783f0a\",\n",
    "\t\"x-rapidapi-host\": \"imdb236.p.rapidapi.com\"\n",
    "}\n",
    "\n",
    "response = requests.get(url, headers=headers)\n",
    "\n",
    "data = response.json()\n",
    "df = pd.DataFrame(data)\n",
    "\n",
    "# Save DataFrame to CSV file\n",
    "df.to_csv(\"top250_movies.csv\", index=False)\n",
    "\n",
    "print(\"✅ DataFrame saved as 'top250_movies.csv'\")\n"
   ]
  },
  {
   "cell_type": "code",
   "execution_count": 22,
   "id": "1b883c24-bd05-42de-abe6-5744d3eee833",
   "metadata": {},
   "outputs": [
    {
     "data": {
      "text/plain": [
       "Index(['id', 'url', 'primaryTitle', 'originalTitle', 'type', 'description',\n",
       "       'primaryImage', 'thumbnails', 'trailer', 'contentRating', 'startYear',\n",
       "       'endYear', 'releaseDate', 'interests', 'countriesOfOrigin',\n",
       "       'externalLinks', 'spokenLanguages', 'filmingLocations',\n",
       "       'productionCompanies', 'budget', 'grossWorldwide', 'genres', 'isAdult',\n",
       "       'runtimeMinutes', 'averageRating', 'numVotes', 'metascore'],\n",
       "      dtype='object')"
      ]
     },
     "execution_count": 22,
     "metadata": {},
     "output_type": "execute_result"
    }
   ],
   "source": [
    "df.columns"
   ]
  },
  {
   "cell_type": "code",
   "execution_count": 23,
   "id": "f9407405-18aa-4e4b-a147-833eb5f46e43",
   "metadata": {},
   "outputs": [
    {
     "name": "stdout",
     "output_type": "stream",
     "text": [
      "<class 'pandas.core.frame.DataFrame'>\n",
      "RangeIndex: 250 entries, 0 to 249\n",
      "Data columns (total 27 columns):\n",
      " #   Column               Non-Null Count  Dtype  \n",
      "---  ------               --------------  -----  \n",
      " 0   id                   250 non-null    object \n",
      " 1   url                  250 non-null    object \n",
      " 2   primaryTitle         250 non-null    object \n",
      " 3   originalTitle        250 non-null    object \n",
      " 4   type                 250 non-null    object \n",
      " 5   description          250 non-null    object \n",
      " 6   primaryImage         250 non-null    object \n",
      " 7   thumbnails           250 non-null    object \n",
      " 8   trailer              248 non-null    object \n",
      " 9   contentRating        245 non-null    object \n",
      " 10  startYear            250 non-null    int64  \n",
      " 11  endYear              0 non-null      object \n",
      " 12  releaseDate          249 non-null    object \n",
      " 13  interests            250 non-null    object \n",
      " 14  countriesOfOrigin    250 non-null    object \n",
      " 15  externalLinks        250 non-null    object \n",
      " 16  spokenLanguages      250 non-null    object \n",
      " 17  filmingLocations     250 non-null    object \n",
      " 18  productionCompanies  250 non-null    object \n",
      " 19  budget               230 non-null    float64\n",
      " 20  grossWorldwide       246 non-null    float64\n",
      " 21  genres               250 non-null    object \n",
      " 22  isAdult              250 non-null    bool   \n",
      " 23  runtimeMinutes       250 non-null    int64  \n",
      " 24  averageRating        250 non-null    float64\n",
      " 25  numVotes             250 non-null    int64  \n",
      " 26  metascore            233 non-null    float64\n",
      "dtypes: bool(1), float64(4), int64(3), object(19)\n",
      "memory usage: 51.2+ KB\n"
     ]
    }
   ],
   "source": [
    "df.info()"
   ]
  },
  {
   "cell_type": "raw",
   "id": "ed2aaeb7-0395-46a3-afe5-0ef5ab498a4d",
   "metadata": {},
   "source": [
    "#pandas Profilling"
   ]
  },
  {
   "cell_type": "code",
   "execution_count": 24,
   "id": "2c1ba9e8-3095-41ac-815e-38465b6d9918",
   "metadata": {},
   "outputs": [
    {
     "name": "stdout",
     "output_type": "stream",
     "text": [
      "Defaulting to user installation because normal site-packages is not writeable\n",
      "Collecting pandas-profiling\n",
      "  Using cached pandas_profiling-3.2.0-py2.py3-none-any.whl.metadata (21 kB)\n",
      "Requirement already satisfied: joblib~=1.1.0 in c:\\users\\asus\\appdata\\roaming\\python\\python312\\site-packages (from pandas-profiling) (1.1.1)\n",
      "Requirement already satisfied: scipy>=1.4.1 in c:\\programdata\\anaconda3\\lib\\site-packages (from pandas-profiling) (1.13.1)\n",
      "Requirement already satisfied: pandas!=1.0.0,!=1.0.1,!=1.0.2,!=1.1.0,>=0.25.3 in c:\\programdata\\anaconda3\\lib\\site-packages (from pandas-profiling) (2.2.2)\n",
      "Requirement already satisfied: matplotlib>=3.2.0 in c:\\programdata\\anaconda3\\lib\\site-packages (from pandas-profiling) (3.9.2)\n",
      "Requirement already satisfied: pydantic>=1.8.1 in c:\\programdata\\anaconda3\\lib\\site-packages (from pandas-profiling) (2.8.2)\n",
      "Requirement already satisfied: PyYAML>=5.0.0 in c:\\programdata\\anaconda3\\lib\\site-packages (from pandas-profiling) (6.0.1)\n",
      "Requirement already satisfied: jinja2>=2.11.1 in c:\\programdata\\anaconda3\\lib\\site-packages (from pandas-profiling) (3.1.4)\n",
      "Requirement already satisfied: markupsafe~=2.1.1 in c:\\programdata\\anaconda3\\lib\\site-packages (from pandas-profiling) (2.1.3)\n",
      "Collecting visions==0.7.4 (from visions[type_image_path]==0.7.4->pandas-profiling)\n",
      "  Using cached visions-0.7.4-py3-none-any.whl.metadata (5.9 kB)\n",
      "Requirement already satisfied: numpy>=1.16.0 in c:\\programdata\\anaconda3\\lib\\site-packages (from pandas-profiling) (1.26.4)\n",
      "Requirement already satisfied: htmlmin>=0.1.12 in c:\\users\\asus\\appdata\\roaming\\python\\python312\\site-packages (from pandas-profiling) (0.1.12)\n",
      "Requirement already satisfied: missingno>=0.4.2 in c:\\users\\asus\\appdata\\roaming\\python\\python312\\site-packages (from pandas-profiling) (0.5.2)\n",
      "Requirement already satisfied: phik>=0.11.1 in c:\\users\\asus\\appdata\\roaming\\python\\python312\\site-packages (from pandas-profiling) (0.12.5)\n",
      "Requirement already satisfied: tangled-up-in-unicode==0.2.0 in c:\\users\\asus\\appdata\\roaming\\python\\python312\\site-packages (from pandas-profiling) (0.2.0)\n",
      "Requirement already satisfied: requests>=2.24.0 in c:\\programdata\\anaconda3\\lib\\site-packages (from pandas-profiling) (2.32.3)\n",
      "Requirement already satisfied: tqdm>=4.48.2 in c:\\programdata\\anaconda3\\lib\\site-packages (from pandas-profiling) (4.66.5)\n",
      "Requirement already satisfied: seaborn>=0.10.1 in c:\\programdata\\anaconda3\\lib\\site-packages (from pandas-profiling) (0.13.2)\n",
      "Requirement already satisfied: multimethod>=1.4 in c:\\users\\asus\\appdata\\roaming\\python\\python312\\site-packages (from pandas-profiling) (1.12)\n",
      "Requirement already satisfied: attrs>=19.3.0 in c:\\programdata\\anaconda3\\lib\\site-packages (from visions==0.7.4->visions[type_image_path]==0.7.4->pandas-profiling) (23.1.0)\n",
      "Requirement already satisfied: networkx>=2.4 in c:\\programdata\\anaconda3\\lib\\site-packages (from visions==0.7.4->visions[type_image_path]==0.7.4->pandas-profiling) (3.3)\n",
      "Requirement already satisfied: imagehash in c:\\users\\asus\\appdata\\roaming\\python\\python312\\site-packages (from visions[type_image_path]==0.7.4->pandas-profiling) (4.3.1)\n",
      "Requirement already satisfied: Pillow in c:\\programdata\\anaconda3\\lib\\site-packages (from visions[type_image_path]==0.7.4->pandas-profiling) (10.4.0)\n",
      "Requirement already satisfied: contourpy>=1.0.1 in c:\\programdata\\anaconda3\\lib\\site-packages (from matplotlib>=3.2.0->pandas-profiling) (1.2.0)\n",
      "Requirement already satisfied: cycler>=0.10 in c:\\programdata\\anaconda3\\lib\\site-packages (from matplotlib>=3.2.0->pandas-profiling) (0.11.0)\n",
      "Requirement already satisfied: fonttools>=4.22.0 in c:\\programdata\\anaconda3\\lib\\site-packages (from matplotlib>=3.2.0->pandas-profiling) (4.51.0)\n",
      "Requirement already satisfied: kiwisolver>=1.3.1 in c:\\programdata\\anaconda3\\lib\\site-packages (from matplotlib>=3.2.0->pandas-profiling) (1.4.4)\n",
      "Requirement already satisfied: packaging>=20.0 in c:\\programdata\\anaconda3\\lib\\site-packages (from matplotlib>=3.2.0->pandas-profiling) (24.1)\n",
      "Requirement already satisfied: pyparsing>=2.3.1 in c:\\programdata\\anaconda3\\lib\\site-packages (from matplotlib>=3.2.0->pandas-profiling) (3.1.2)\n",
      "Requirement already satisfied: python-dateutil>=2.7 in c:\\programdata\\anaconda3\\lib\\site-packages (from matplotlib>=3.2.0->pandas-profiling) (2.9.0.post0)\n",
      "Requirement already satisfied: pytz>=2020.1 in c:\\programdata\\anaconda3\\lib\\site-packages (from pandas!=1.0.0,!=1.0.1,!=1.0.2,!=1.1.0,>=0.25.3->pandas-profiling) (2024.1)\n",
      "Requirement already satisfied: tzdata>=2022.7 in c:\\programdata\\anaconda3\\lib\\site-packages (from pandas!=1.0.0,!=1.0.1,!=1.0.2,!=1.1.0,>=0.25.3->pandas-profiling) (2023.3)\n",
      "Requirement already satisfied: annotated-types>=0.4.0 in c:\\programdata\\anaconda3\\lib\\site-packages (from pydantic>=1.8.1->pandas-profiling) (0.6.0)\n",
      "Requirement already satisfied: pydantic-core==2.20.1 in c:\\programdata\\anaconda3\\lib\\site-packages (from pydantic>=1.8.1->pandas-profiling) (2.20.1)\n",
      "Requirement already satisfied: typing-extensions>=4.6.1 in c:\\users\\asus\\appdata\\roaming\\python\\python312\\site-packages (from pydantic>=1.8.1->pandas-profiling) (4.15.0)\n",
      "Requirement already satisfied: six>=1.5 in c:\\programdata\\anaconda3\\lib\\site-packages (from python-dateutil>=2.7->matplotlib>=3.2.0->pandas-profiling) (1.16.0)\n",
      "Requirement already satisfied: charset-normalizer<4,>=2 in c:\\programdata\\anaconda3\\lib\\site-packages (from requests>=2.24.0->pandas-profiling) (3.3.2)\n",
      "Requirement already satisfied: idna<4,>=2.5 in c:\\programdata\\anaconda3\\lib\\site-packages (from requests>=2.24.0->pandas-profiling) (3.7)\n",
      "Requirement already satisfied: urllib3<3,>=1.21.1 in c:\\programdata\\anaconda3\\lib\\site-packages (from requests>=2.24.0->pandas-profiling) (2.2.3)\n",
      "Requirement already satisfied: certifi>=2017.4.17 in c:\\programdata\\anaconda3\\lib\\site-packages (from requests>=2.24.0->pandas-profiling) (2025.1.31)\n",
      "Requirement already satisfied: colorama in c:\\programdata\\anaconda3\\lib\\site-packages (from tqdm>=4.48.2->pandas-profiling) (0.4.6)\n",
      "Requirement already satisfied: PyWavelets in c:\\programdata\\anaconda3\\lib\\site-packages (from imagehash->visions[type_image_path]==0.7.4->pandas-profiling) (1.7.0)\n",
      "Using cached pandas_profiling-3.2.0-py2.py3-none-any.whl (262 kB)\n",
      "Using cached visions-0.7.4-py3-none-any.whl (102 kB)\n",
      "Installing collected packages: visions, pandas-profiling\n",
      "\n",
      "  Attempting uninstall: visions\n",
      "\n",
      "    Found existing installation: visions 0.8.1\n",
      "\n",
      "    Uninstalling visions-0.8.1:\n",
      "\n",
      "      Successfully uninstalled visions-0.8.1\n",
      "\n",
      "   ---------------------------------------- 0/2 [visions]\n",
      "   ---------------------------------------- 0/2 [visions]\n",
      "   ---------------------------------------- 0/2 [visions]\n",
      "   ---------------------------------------- 0/2 [visions]\n",
      "   ---------------------------------------- 0/2 [visions]\n",
      "   ---------------------------------------- 0/2 [visions]\n",
      "   -------------------- ------------------- 1/2 [pandas-profiling]\n",
      "   -------------------- ------------------- 1/2 [pandas-profiling]\n",
      "   -------------------- ------------------- 1/2 [pandas-profiling]\n",
      "   -------------------- ------------------- 1/2 [pandas-profiling]\n",
      "   -------------------- ------------------- 1/2 [pandas-profiling]\n",
      "   -------------------- ------------------- 1/2 [pandas-profiling]\n",
      "   -------------------- ------------------- 1/2 [pandas-profiling]\n",
      "   ---------------------------------------- 2/2 [pandas-profiling]\n",
      "\n",
      "Successfully installed pandas-profiling-3.2.0 visions-0.7.4\n"
     ]
    },
    {
     "name": "stderr",
     "output_type": "stream",
     "text": [
      "  WARNING: The script pandas_profiling.exe is installed in 'C:\\Users\\asus\\AppData\\Roaming\\Python\\Python312\\Scripts' which is not on PATH.\n",
      "  Consider adding this directory to PATH or, if you prefer to suppress this warning, use --no-warn-script-location.\n",
      "ERROR: pip's dependency resolver does not currently take into account all the packages that are installed. This behaviour is the source of the following dependency conflicts.\n",
      "ydata-profiling 4.16.1 requires visions[type_image_path]<0.8.2,>=0.7.5, but you have visions 0.7.4 which is incompatible.\n"
     ]
    }
   ],
   "source": [
    "!pip install pandas-profiling"
   ]
  },
  {
   "cell_type": "code",
   "execution_count": null,
   "id": "b2253ec4-514a-4424-989d-98cf82072e78",
   "metadata": {},
   "outputs": [],
   "source": [
    "!pip uninstall -y pandas-profiling visions numba\n",
    "!pip install -U ydata-profiling\n"
   ]
  },
  {
   "cell_type": "code",
   "execution_count": 27,
   "id": "9a150014-5256-498e-af28-887c69259837",
   "metadata": {},
   "outputs": [
    {
     "data": {
      "application/vnd.jupyter.widget-view+json": {
       "model_id": "a0feaae7de934aadaf7c061232738fc6",
       "version_major": 2,
       "version_minor": 0
      },
      "text/plain": [
       "Summarize dataset:   0%|          | 0/5 [00:00<?, ?it/s]"
      ]
     },
     "metadata": {},
     "output_type": "display_data"
    },
    {
     "name": "stderr",
     "output_type": "stream",
     "text": [
      "\n",
      "100%|█████████████████████████████████████████████████████████████████████████████████████████| 27/27 [00:00<00:00, 3411.24it/s]\u001b[A\n"
     ]
    },
    {
     "data": {
      "application/vnd.jupyter.widget-view+json": {
       "model_id": "75f9afb91cb14a1ba7edd3c1da878785",
       "version_major": 2,
       "version_minor": 0
      },
      "text/plain": [
       "Generate report structure:   0%|          | 0/1 [00:00<?, ?it/s]"
      ]
     },
     "metadata": {},
     "output_type": "display_data"
    },
    {
     "data": {
      "application/vnd.jupyter.widget-view+json": {
       "model_id": "66b0211ed9714ac99102a72176b911c5",
       "version_major": 2,
       "version_minor": 0
      },
      "text/plain": [
       "Render HTML:   0%|          | 0/1 [00:00<?, ?it/s]"
      ]
     },
     "metadata": {},
     "output_type": "display_data"
    },
    {
     "data": {
      "application/vnd.jupyter.widget-view+json": {
       "model_id": "47bc970e53a7439a8e3c2b7edb5a6ffd",
       "version_major": 2,
       "version_minor": 0
      },
      "text/plain": [
       "Export report to file:   0%|          | 0/1 [00:00<?, ?it/s]"
      ]
     },
     "metadata": {},
     "output_type": "display_data"
    }
   ],
   "source": [
    "from ydata_profiling import ProfileReport\n",
    "\n",
    "profile = ProfileReport(df, title=\"IMDB Top 250 Movies Report\", explorative=True)\n",
    "profile.to_file(\"output.html\")\n"
   ]
  },
  {
   "cell_type": "code",
   "execution_count": null,
   "id": "3085eefd-5564-48cf-b1b7-c51bdacd16dd",
   "metadata": {},
   "outputs": [],
   "source": [
    "import webbrowser\n",
    "webbrowser.open(\"output.html\")"
   ]
  },
  {
   "cell_type": "code",
   "execution_count": null,
   "id": "a934ff23-b0eb-40a4-92b7-8924747c8251",
   "metadata": {},
   "outputs": [],
   "source": []
  }
 ],
 "metadata": {
  "kernelspec": {
   "display_name": "Python [conda env:base] *",
   "language": "python",
   "name": "conda-base-py"
  },
  "language_info": {
   "codemirror_mode": {
    "name": "ipython",
    "version": 3
   },
   "file_extension": ".py",
   "mimetype": "text/x-python",
   "name": "python",
   "nbconvert_exporter": "python",
   "pygments_lexer": "ipython3",
   "version": "3.12.7"
  }
 },
 "nbformat": 4,
 "nbformat_minor": 5
}
